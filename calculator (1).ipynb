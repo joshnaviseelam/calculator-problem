{
 "cells": [
  {
   "cell_type": "code",
   "execution_count": 2,
   "id": "2dab3a26-d21c-4661-aedc-fc612427d1be",
   "metadata": {},
   "outputs": [],
   "source": [
    "import tkinter as tk\n",
    "\n",
    "# Function to update the expression in the entry box\n",
    "def press(num):\n",
    "    current = expression.get()\n",
    "    expression.set(current + str(num))\n",
    "\n",
    "# Function to evaluate the final expression\n",
    "def equalpress():\n",
    "    try:\n",
    "        total = str(eval(expression.get()))\n",
    "        expression.set(total)\n",
    "    except:\n",
    "        expression.set(\"Error\")\n",
    "\n",
    "# Function to clear the contents of the entry box\n",
    "def clear():\n",
    "    expression.set(\"\")\n",
    "\n",
    "# Create the main window\n",
    "root = tk.Tk()\n",
    "root.title(\"Simple Calculator\")\n",
    "root.geometry(\"300x400\")\n",
    "root.resizable(False, False)\n",
    "\n",
    "# StringVar to hold the expression\n",
    "expression = tk.StringVar()\n",
    "\n",
    "# Entry widget to display the expression\n",
    "entry = tk.Entry(root, textvariable=expression, font=('Arial', 20), bd=10, insertwidth=2, width=14, borderwidth=4, relief='ridge', justify='right')\n",
    "entry.grid(row=0, column=0, columnspan=4, padx=10, pady=20)\n",
    "\n",
    "# List of button texts in the calculator\n",
    "buttons = [\n",
    "    ('7', 1, 0), ('8', 1, 1), ('9', 1, 2), ('/', 1, 3),\n",
    "    ('4', 2, 0), ('5', 2, 1), ('6', 2, 2), ('*', 2, 3),\n",
    "    ('1', 3, 0), ('2', 3, 1), ('3', 3, 2), ('-', 3, 3),\n",
    "    ('0', 4, 0), ('.', 4, 1), ('=', 4, 2), ('+', 4, 3),\n",
    "    ('C', 5, 0)\n",
    "]\n",
    "\n",
    "# Create and place the buttons on the grid\n",
    "for (text, row, col) in buttons:\n",
    "    if text == '=':\n",
    "        btn = tk.Button(root, text=text, padx=20, pady=20, font=('Arial', 18), command=equalpress)\n",
    "    elif text == 'C':\n",
    "        btn = tk.Button(root, text=text, padx=20, pady=20, font=('Arial', 18), command=clear)\n",
    "        btn.grid(row=row, column=col, columnspan=4, sticky='we')\n",
    "        continue\n",
    "    else:\n",
    "        btn = tk.Button(root, text=text, padx=20, pady=20, font=('Arial', 18), command=lambda t=text: press(t))\n",
    "    btn.grid(row=row, column=col)\n",
    "\n",
    "# Start the GUI event loop\n",
    "root.mainloop()"
   ]
  },
  {
   "cell_type": "code",
   "execution_count": null,
   "id": "5f1f80f6-29ea-4347-9d31-dffdf1e16b31",
   "metadata": {},
   "outputs": [],
   "source": []
  }
 ],
 "metadata": {
  "kernelspec": {
   "display_name": "Python [conda env:base] *",
   "language": "python",
   "name": "conda-base-py"
  },
  "language_info": {
   "codemirror_mode": {
    "name": "ipython",
    "version": 3
   },
   "file_extension": ".py",
   "mimetype": "text/x-python",
   "name": "python",
   "nbconvert_exporter": "python",
   "pygments_lexer": "ipython3",
   "version": "3.12.7"
  }
 },
 "nbformat": 4,
 "nbformat_minor": 5
}
